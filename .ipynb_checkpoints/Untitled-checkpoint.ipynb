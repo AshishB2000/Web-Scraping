{
 "cells": [
  {
   "cell_type": "code",
   "execution_count": 51,
   "id": "265e847a-0369-4b6a-8c36-32574b41db1e",
   "metadata": {},
   "outputs": [],
   "source": [
    "import pandas as pd\n",
    "import requests\n",
    "from bs4 import BeautifulSoup"
   ]
  },
  {
   "cell_type": "code",
   "execution_count": 52,
   "id": "a5376a55-a226-4f77-bf95-b2ed1a1bb41d",
   "metadata": {},
   "outputs": [],
   "source": [
    "url= 'https://punchng.com/topics/news/'\n",
    "response = requests.get(url).text"
   ]
  },
  {
   "cell_type": "code",
   "execution_count": 81,
   "id": "650bdabc-d9b3-4cd3-9491-456471aa6603",
   "metadata": {},
   "outputs": [
    {
     "name": "stdout",
     "output_type": "stream",
     "text": [
      "category news is completed\n",
      "category metro-plus is completed\n"
     ]
    },
    {
     "ename": "AttributeError",
     "evalue": "'NoneType' object has no attribute 'find_all_next'",
     "output_type": "error",
     "traceback": [
      "\u001b[1;31m---------------------------------------------------------------------------\u001b[0m",
      "\u001b[1;31mAttributeError\u001b[0m                            Traceback (most recent call last)",
      "Cell \u001b[1;32mIn[81], line 13\u001b[0m\n\u001b[0;32m      9\u001b[0m soup \u001b[38;5;241m=\u001b[39m BeautifulSoup(response, \u001b[38;5;124m'\u001b[39m\u001b[38;5;124mhtml.parser\u001b[39m\u001b[38;5;124m'\u001b[39m)\n\u001b[0;32m     11\u001b[0m article_container \u001b[38;5;241m=\u001b[39m soup\u001b[38;5;241m.\u001b[39mfind(\u001b[38;5;124m'\u001b[39m\u001b[38;5;124mdiv\u001b[39m\u001b[38;5;124m'\u001b[39m , class_ \u001b[38;5;241m=\u001b[39m\u001b[38;5;124m'\u001b[39m\u001b[38;5;124mlatest-news-timeline-section\u001b[39m\u001b[38;5;124m'\u001b[39m)\n\u001b[1;32m---> 13\u001b[0m article_temp \u001b[38;5;241m=\u001b[39m \u001b[43marticle_container\u001b[49m\u001b[38;5;241;43m.\u001b[39;49m\u001b[43mfind_all_next\u001b[49m(\u001b[38;5;124m'\u001b[39m\u001b[38;5;124marticle\u001b[39m\u001b[38;5;124m'\u001b[39m)\n\u001b[0;32m     17\u001b[0m \u001b[38;5;28;01mfor\u001b[39;00m article \u001b[38;5;129;01min\u001b[39;00m article_temp:\n\u001b[0;32m     18\u001b[0m     title \u001b[38;5;241m=\u001b[39m article\u001b[38;5;241m.\u001b[39mfind(\u001b[38;5;124m'\u001b[39m\u001b[38;5;124mh1\u001b[39m\u001b[38;5;124m'\u001b[39m, \u001b[38;5;124m'\u001b[39m\u001b[38;5;124mpost-title\u001b[39m\u001b[38;5;124m'\u001b[39m)\u001b[38;5;241m.\u001b[39mtext\u001b[38;5;241m.\u001b[39mstrip()\n",
      "\u001b[1;31mAttributeError\u001b[0m: 'NoneType' object has no attribute 'find_all_next'"
     ]
    }
   ],
   "source": [
    "articles = []\n",
    "\n",
    "categories=['news','metro-plus','videos','sports','politics','business','editorial','columns','podcast']\n",
    "\n",
    "for category in categories:\n",
    "    url= f'https://punchng.com/topics/{category}/'\n",
    "    response = requests.get(url).text\n",
    "\n",
    "    soup = BeautifulSoup(response, 'html.parser')\n",
    "\n",
    "    article_container = soup.find('div' , class_ ='latest-news-timeline-section')\n",
    "\n",
    "    article_temp = article_container.find_all_next('article')\n",
    "\n",
    "\n",
    "\n",
    "    for article in article_temp:\n",
    "        title = article.find('h1', 'post-title').text.strip()\n",
    "        excerpt = article.find('p', 'post-excerpt').text.strip()\n",
    "        date = article.find('span', 'post-date')\n",
    "        link = article.find('a')['href']\n",
    "\n",
    "\n",
    "\n",
    "        articles.append({\n",
    "            'category' : category,\n",
    "            'title' : title,\n",
    "            'excerpt' : excerpt,\n",
    "            'date' : date,\n",
    "            'link' : link\n",
    "        })\n",
    "\n",
    "\n",
    "    for article in articles:\n",
    "        article_page= requests.get(article['link']).text.strip()\n",
    "\n",
    "        article_soup = BeautifulSoup(article_page, 'html.parser')\n",
    "\n",
    "        article['author'] = article_soup.find('span',class_= 'post-author').text.strip().replace('By' ,'')\n",
    "\n",
    "        article['content'] = article_soup.find('div', class_='post-content').text.strip()\n",
    "        \n",
    "        \n",
    "        if article_soup.find('div', class_= 'post-image-wrapper') is None:\n",
    "            article['image'] = ''\n",
    "        else:\n",
    "            article['image'] = article_soup.find('div', class_= 'post-image-wrapper').find_next('figure').find_next('img')['src']\n",
    "\n",
    "    \n",
    "    print(f'category {category} is completed')\n",
    "\n",
    "    \n",
    "    \n",
    "    \n",
    "    \n",
    "df= pd.DataFrame(articles)\n",
    "df\n",
    "   "
   ]
  },
  {
   "cell_type": "code",
   "execution_count": null,
   "id": "ac47f940-ca47-4236-962d-b008de4dd9cb",
   "metadata": {},
   "outputs": [],
   "source": []
  }
 ],
 "metadata": {
  "kernelspec": {
   "display_name": "Python 3 (ipykernel)",
   "language": "python",
   "name": "python3"
  },
  "language_info": {
   "codemirror_mode": {
    "name": "ipython",
    "version": 3
   },
   "file_extension": ".py",
   "mimetype": "text/x-python",
   "name": "python",
   "nbconvert_exporter": "python",
   "pygments_lexer": "ipython3",
   "version": "3.10.9"
  }
 },
 "nbformat": 4,
 "nbformat_minor": 5
}
